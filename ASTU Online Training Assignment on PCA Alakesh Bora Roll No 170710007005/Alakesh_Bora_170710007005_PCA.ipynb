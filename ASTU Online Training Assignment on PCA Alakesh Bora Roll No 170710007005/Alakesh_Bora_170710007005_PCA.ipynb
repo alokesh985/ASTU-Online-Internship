{
  "nbformat": 4,
  "nbformat_minor": 0,
  "metadata": {
    "colab": {
      "name": "PCA.ipynb",
      "provenance": []
    },
    "kernelspec": {
      "name": "python3",
      "display_name": "Python 3"
    }
  },
  "cells": [
    {
      "cell_type": "markdown",
      "metadata": {
        "id": "LN4Qb4YsjBXJ",
        "colab_type": "text"
      },
      "source": [
        "## ASTU Online Training on AI & ML \n",
        "## Assignment on Mathematical Preliminaries\n",
        "## **Created By: Alakesh Bora**\n",
        "## **Roll No: 170710007005**\n",
        "## **Email ID: alokesh985@gmail.com**"
      ]
    },
    {
      "cell_type": "markdown",
      "metadata": {
        "id": "qv5la3TZjw3n",
        "colab_type": "text"
      },
      "source": [
        "## Mounting Google Drive (Done on Google Colab)"
      ]
    },
    {
      "cell_type": "code",
      "metadata": {
        "id": "yIJxV-Lmim6e",
        "colab_type": "code",
        "colab": {
          "base_uri": "https://localhost:8080/",
          "height": 122
        },
        "outputId": "b6ef5d4f-990c-4a79-fd0a-475794303b62"
      },
      "source": [
        "from google.colab import drive\n",
        "drive.mount('/content/gdrive', force_remount = True)"
      ],
      "execution_count": 1,
      "outputs": [
        {
          "output_type": "stream",
          "text": [
            "Go to this URL in a browser: https://accounts.google.com/o/oauth2/auth?client_id=947318989803-6bn6qk8qdgf4n4g3pfee6491hc0brc4i.apps.googleusercontent.com&redirect_uri=urn%3aietf%3awg%3aoauth%3a2.0%3aoob&scope=email%20https%3a%2f%2fwww.googleapis.com%2fauth%2fdocs.test%20https%3a%2f%2fwww.googleapis.com%2fauth%2fdrive%20https%3a%2f%2fwww.googleapis.com%2fauth%2fdrive.photos.readonly%20https%3a%2f%2fwww.googleapis.com%2fauth%2fpeopleapi.readonly&response_type=code\n",
            "\n",
            "Enter your authorization code:\n",
            "··········\n",
            "Mounted at /content/gdrive\n"
          ],
          "name": "stdout"
        }
      ]
    },
    {
      "cell_type": "markdown",
      "metadata": {
        "id": "P8lrJ-8zkAmD",
        "colab_type": "text"
      },
      "source": [
        "## Importing Necessary Libraries"
      ]
    },
    {
      "cell_type": "code",
      "metadata": {
        "id": "lRBwAEN6kWL5",
        "colab_type": "code",
        "colab": {
          "base_uri": "https://localhost:8080/",
          "height": 71
        },
        "outputId": "d44d2f5e-dbba-4687-91ce-113ff9f6af02"
      },
      "source": [
        "import pandas as pd\n",
        "import numpy as np\n",
        "import matplotlib.pyplot as plt\n",
        "import seaborn as sns\n",
        "from sklearn.decomposition import PCA\n",
        "%matplotlib inline"
      ],
      "execution_count": 32,
      "outputs": [
        {
          "output_type": "stream",
          "text": [
            "/usr/local/lib/python3.6/dist-packages/statsmodels/tools/_testing.py:19: FutureWarning: pandas.util.testing is deprecated. Use the functions in the public API at pandas.testing instead.\n",
            "  import pandas.util.testing as tm\n"
          ],
          "name": "stderr"
        }
      ]
    },
    {
      "cell_type": "markdown",
      "metadata": {
        "id": "15Wbd7mrkwvI",
        "colab_type": "text"
      },
      "source": [
        "## Reading the Dataset"
      ]
    },
    {
      "cell_type": "code",
      "metadata": {
        "id": "02oMAMYgkzYJ",
        "colab_type": "code",
        "colab": {}
      },
      "source": [
        "dataset = pd.read_csv(\"/content/gdrive/My Drive/Temp/ASTU IITG Internship/PCA_practice_dataset.csv\")\n",
        "\n",
        "print(f\"Shape of dataset  : {dataset.shape}\")"
      ],
      "execution_count": null,
      "outputs": []
    },
    {
      "cell_type": "markdown",
      "metadata": {
        "id": "Lvl9VYP5qEPH",
        "colab_type": "text"
      },
      "source": [
        "## PCA"
      ]
    },
    {
      "cell_type": "code",
      "metadata": {
        "id": "uUCgSxElqFvk",
        "colab_type": "code",
        "colab": {
          "base_uri": "https://localhost:8080/",
          "height": 170
        },
        "outputId": "c012326e-9b5a-4ffc-f492-3ea112d9fdd5"
      },
      "source": [
        "# The threshold values will be kept in this list\n",
        "threshold_values = [i for i in np.arange(0.9, 0.98, 0.01)]\n",
        "threshold_values = list(map(lambda x : round(x,2), threshold_values))\n",
        "\n",
        "# Creating the PCA model and fitting the data\n",
        "PCA_Model = PCA()\n",
        "PCA_Model.fit_transform(dataset)\n",
        "\n",
        "# The Cumulative Sum of the variance shown by each dimension after performing PCA\n",
        "cumulative_variance = np.cumsum(PCA_Model.explained_variance_ratio_)\n",
        "\n",
        "# Picking Principal Components only below the threshold\n",
        "principal_components = [np.argmax(cumulative_variance > t) for t in threshold_values]\n",
        "\n",
        "# Printing the Number of components\n",
        "for i in range(len(principal_components)):\n",
        "  print(f\"Number of Pricipal Components for threshold limit of {threshold_values[i]}: {principal_components[i]}\")"
      ],
      "execution_count": 31,
      "outputs": [
        {
          "output_type": "stream",
          "text": [
            "[2, 2, 3, 3, 4, 4, 5, 6]\n",
            "Number of Pricipal Components for threshold limit of 0.9: 2\n",
            "Number of Pricipal Components for threshold limit of 0.91: 2\n",
            "Number of Pricipal Components for threshold limit of 0.92: 3\n",
            "Number of Pricipal Components for threshold limit of 0.93: 3\n",
            "Number of Pricipal Components for threshold limit of 0.94: 4\n",
            "Number of Pricipal Components for threshold limit of 0.95: 4\n",
            "Number of Pricipal Components for threshold limit of 0.96: 5\n",
            "Number of Pricipal Components for threshold limit of 0.97: 6\n"
          ],
          "name": "stdout"
        }
      ]
    },
    {
      "cell_type": "markdown",
      "metadata": {
        "id": "OAPM6PHF2ax7",
        "colab_type": "text"
      },
      "source": [
        "## Plotting Scree Plot\n"
      ]
    },
    {
      "cell_type": "code",
      "metadata": {
        "id": "FsTTrwFn2tSq",
        "colab_type": "code",
        "colab": {
          "base_uri": "https://localhost:8080/",
          "height": 627
        },
        "outputId": "dd743a54-6198-460b-9351-53e5660c9372"
      },
      "source": [
        "# Plotting th Scree Plot\n",
        "fig = plt.figure(figsize = (15,10))\n",
        "plt.title(\"Scree Plot\", fontsize = 20)\n",
        "plt.xlabel(\"Number of Principal Components\")\n",
        "plt.ylabel(\"Threshold Value\")\n",
        "plt.xlim(2,6)\n",
        "plt.plot(principal_components, threshold_values, 'c*-', label = 'Principal Components')\n",
        "plt.legend(loc = 'best', fontsize = 'x-large')\n",
        "plt.show()"
      ],
      "execution_count": 55,
      "outputs": [
        {
          "output_type": "display_data",
          "data": {
            "image/png": "[encoded data removed]",
            "text/plain": [
              "<Figure size 1080x720 with 1 Axes>"
            ]
          },
          "metadata": {
            "tags": [],
            "needs_background": "light"
          }
        }
      ]
    }
  ]
}